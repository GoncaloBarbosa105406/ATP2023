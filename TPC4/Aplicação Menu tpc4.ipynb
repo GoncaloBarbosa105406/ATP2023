{
 "cells": [
  {
   "cell_type": "markdown",
   "id": "1e545158",
   "metadata": {},
   "source": [
    "# Aula Prática 4 (guião)\n",
    "### Semana de 2 a 6 de Outubro de 2023\n",
    "### José Carlos Ramalho e Luís Cunha\n",
    "### Sinopsis:\n",
    "Algoritmos sobre listas."
   ]
  },
  {
   "cell_type": "markdown",
   "id": "e38d18c4-d7d7-4fea-9bc6-e3f3c903386b",
   "metadata": {},
   "source": [
    "### Exercício 1: Criar uma lista \n",
    "- Defina uma função que recebe um argumento **N** e devolve uma  lista com os números ímpares até **N**;\n",
    "- Crie um programa que chama a função e imprime a lista resultante."
   ]
  },
  {
   "cell_type": "code",
   "execution_count": 1,
   "id": "af973146-3bb4-4fa8-ba6c-b887b79ccff8",
   "metadata": {},
   "outputs": [
    {
     "name": "stdout",
     "output_type": "stream",
     "text": [
      "[1, 3, 5, 7, 9, 11]\n"
     ]
    }
   ],
   "source": [
    "# Solução do exercício 1\n",
    "def criaLista(N):\n",
    "        lista=[]\n",
    "        x=0\n",
    "        while x<=N:\n",
    "                if x%2!=0:\n",
    "                    lista.append(x)\n",
    "                x=x+1\n",
    "        return lista\n",
    "N=11\n",
    "print(criaLista(N))"
   ]
  },
  {
   "cell_type": "code",
   "execution_count": 14,
   "id": "39137885",
   "metadata": {},
   "outputs": [
    {
     "name": "stdout",
     "output_type": "stream",
     "text": [
      "[1, 3, 5, 7, 9, 11]\n"
     ]
    }
   ],
   "source": [
    "def criaLista2(N):\n",
    "    lista=[]\n",
    "    for n in range(0,N+1):\n",
    "        if n % 2 != 0:\n",
    "            lista.append(n)\n",
    "    return lista\n",
    "N=11\n",
    "print(criaLista2(N))"
   ]
  },
  {
   "cell_type": "code",
   "execution_count": null,
   "id": "5a94527e",
   "metadata": {},
   "outputs": [],
   "source": [
    "def criaLista2(N):\n",
    "    lista=[]\n",
    "    x=1\n",
    "    while x<=N"
   ]
  },
  {
   "cell_type": "code",
   "execution_count": 15,
   "id": "e7542e7c",
   "metadata": {},
   "outputs": [
    {
     "name": "stdout",
     "output_type": "stream",
     "text": [
      "[2, 7, 5, 0]\n"
     ]
    }
   ],
   "source": [
    "#lista em compreesão:\n",
    "listaA=[4,9,7,2]\n",
    "listaB = [e-2 for e in listaA]\n",
    "print(listaB)"
   ]
  },
  {
   "cell_type": "code",
   "execution_count": 18,
   "id": "6c261a9e",
   "metadata": {},
   "outputs": [
    {
     "name": "stdout",
     "output_type": "stream",
     "text": [
      "[1, 3, 5, 7, 9]\n"
     ]
    }
   ],
   "source": [
    "N=11\n",
    "listaA=range(0,N)\n",
    "listaB=[e for e in listaA if e%2!=0]\n",
    "print(listaB)"
   ]
  },
  {
   "cell_type": "markdown",
   "id": "bdcbffb0",
   "metadata": {},
   "source": [
    "### Exercício 2: Ler uma lista de N números\n",
    "- Defina uma função que recebe um argumento **N** e lê **N** números armazenando-os numa lista que é devolvida como resultado;\n",
    "- Crie um programa que chama a função e imprime a lista resultante."
   ]
  },
  {
   "cell_type": "code",
   "execution_count": 25,
   "id": "af973146-3bb4-4fa8-ba6c-b887b79ccff8",
   "metadata": {},
   "outputs": [
    {
     "name": "stdout",
     "output_type": "stream",
     "text": [
      "[4, 6, 8]\n"
     ]
    }
   ],
   "source": [
    "# Solução do exercício 2\n",
    "ola=int(input(\"diz o nr de nrs\"))\n",
    "def leLista(oi):\n",
    "    lista=[]\n",
    "    while oi>0:\n",
    "        x=int(input(\"Diz o numero\"))\n",
    "        oi=oi-1\n",
    "        lista.append(x)\n",
    "    return lista\n",
    "print(leLista(ola))\n"
   ]
  },
  {
   "cell_type": "markdown",
   "id": "bdcbffb0",
   "metadata": {},
   "source": [
    "### Exercício 3: Somar uma lista de números\n",
    "- Defina uma função que recebe uma lista como argumento e devolve a soma dos números nessa lista."
   ]
  },
  {
   "cell_type": "code",
   "execution_count": null,
   "id": "64ad6f7b",
   "metadata": {},
   "outputs": [],
   "source": [
    "# Solução do exercício 3\n",
    "ola=int(input(\"diz o nr de nrs\"))\n",
    "def leLista(oi):\n",
    "    lista=[]\n",
    "    while oi>0:\n",
    "        x=int(input(\"Diz o numero\"))\n",
    "        oi=oi-1\n",
    "        lista.append(x)\n",
    "    return lista\n",
    "print(leLista(ola))"
   ]
  },
  {
   "cell_type": "markdown",
   "id": "65565661",
   "metadata": {},
   "source": [
    "### Exercício 4: Quadrado dos elementos de uma lista\n",
    "\n",
    "- Defina uma função que recebe uma lista como argumento e devolve uma nova lista com os quadrados de cada número da lista inicial. \n",
    "\n",
    "#### Input (exemplo)\n",
    "in: [1, 2, 3, 4]\n",
    "#### Output (exemplo)\n",
    "out: [1, 4, 9, 16]"
   ]
  },
  {
   "cell_type": "code",
   "execution_count": null,
   "id": "7e3e2775",
   "metadata": {},
   "outputs": [],
   "source": [
    "# Solução do exercício 4\n",
    "def quadrados(lista):\n",
    "    \n",
    "    return"
   ]
  },
  {
   "cell_type": "markdown",
   "id": "bdcbffb0",
   "metadata": {},
   "source": [
    "### Exercício 5: Calcular a média duma lista de números\n",
    "- Defina uma função que recebe uma lista como argumento e devolve a média dos números nessa lista."
   ]
  },
  {
   "cell_type": "code",
   "execution_count": null,
   "id": "a6c32b2e",
   "metadata": {},
   "outputs": [],
   "source": [
    "# Solução do exercício 5\n",
    "def mediaLista(lista):\n",
    "    \n",
    "    return"
   ]
  },
  {
   "cell_type": "markdown",
   "id": "f41ef69b",
   "metadata": {},
   "source": [
    "### Exercício 6: Maior de uma sequência\n",
    "- Defina uma função que recebe uma lista como argumento e devolve o maior número nessa lista."
   ]
  },
  {
   "cell_type": "code",
   "execution_count": null,
   "id": "86f5b24d",
   "metadata": {},
   "outputs": [],
   "source": [
    "# Solução do exercício 6\n",
    "def maiorLista(lista):\n",
    "    \n",
    "    return"
   ]
  },
  {
   "cell_type": "markdown",
   "id": "d11cdd11",
   "metadata": {},
   "source": [
    "### Exercício 6: Menor de uma sequência\n",
    "- Defina uma função que recebe uma lista como argumento e devolve o menor número nessa lista."
   ]
  },
  {
   "cell_type": "code",
   "execution_count": null,
   "id": "7549c7d7",
   "metadata": {},
   "outputs": [],
   "source": [
    "# Solução do exercício 6\n",
    "def menorLista(lista):\n",
    "    \n",
    "    return"
   ]
  },
  {
   "cell_type": "markdown",
   "id": "bb597e57",
   "metadata": {},
   "source": [
    "### Exercício 7: Contar Ocorrências\n",
    "- Defina uma função que recebe uma lista e um elemento como argumento, e que devolve o número de ocurrências desse elemento na lista."
   ]
  },
  {
   "cell_type": "code",
   "execution_count": null,
   "id": "e426e923",
   "metadata": {},
   "outputs": [],
   "source": [
    "# Solução do exercício 7\n",
    "def occor(lista, elem):\n",
    "    \n",
    "    return"
   ]
  },
  {
   "cell_type": "markdown",
   "id": "775a02a5",
   "metadata": {},
   "source": [
    "### Exercício 8: Contar strings\n",
    "- Defina uma função que recebe uma lista de strings como argumento e devolve número de strings nessa lista que:\n",
    "    1. Têm tamanho maior ou igual a 3;\n",
    "    2. Começam e terminam pelo mesmo caracter.\n",
    "#### Input (exemplo)\n",
    "in: ['abc', 'xyz', 'ab', '1221']\n",
    "#### Output (exemplo)\n",
    "out1: 3\n",
    "\n",
    "out2: 1"
   ]
  },
  {
   "cell_type": "code",
   "execution_count": null,
   "id": "7390bc6a",
   "metadata": {},
   "outputs": [],
   "source": [
    "# Solução do exercício 8\n",
    "def contarStringsLista(lista):\n",
    "    \n",
    "    return"
   ]
  },
  {
   "cell_type": "markdown",
   "id": "f9ba457b",
   "metadata": {},
   "source": [
    "### Exercício 9: Remover duplicados\n",
    "- Defina uma função que recebe uma lista como argumento e devolve uma nova lista eliminando elementos repetidos."
   ]
  },
  {
   "cell_type": "code",
   "execution_count": null,
   "id": "0abc61e5",
   "metadata": {},
   "outputs": [],
   "source": [
    "# Solução do exercício 9\n",
    "def remDupLista(lista):\n",
    "    \n",
    "    return"
   ]
  },
  {
   "cell_type": "markdown",
   "id": "9bc471d8",
   "metadata": {},
   "source": [
    "### Exercício 10: eVazia?\n",
    "- Defina uma função que recebe uma lista como argumento e devolve um resultado booleano verdadeiro se a lista estiver vazia."
   ]
  },
  {
   "cell_type": "code",
   "execution_count": null,
   "id": "18cf2aff",
   "metadata": {},
   "outputs": [],
   "source": [
    "# Solução do exercício 10\n",
    "def eVazia(lista):\n",
    "    \n",
    "    return"
   ]
  },
  {
   "cell_type": "markdown",
   "id": "72b8fac0",
   "metadata": {},
   "source": [
    "### Exercício 11: Copiar lista\n",
    "- Defina uma função que recebe uma lista como argumento e devolve uma nova lista correspondente a uma cópia da lista recebida."
   ]
  },
  {
   "cell_type": "code",
   "execution_count": null,
   "id": "a61ca503",
   "metadata": {},
   "outputs": [],
   "source": [
    "# Solução do exercício 11\n",
    "def copiarLista(lista):\n",
    "    \n",
    "    return"
   ]
  },
  {
   "cell_type": "markdown",
   "id": "d170cc50",
   "metadata": {},
   "source": [
    "### Exercício 12: Strings maiores que n carateres\n",
    "- Defina uma função que recebe dois argumentos, uma lista de strings e um número inteiro, e que devolve uma nova lista de strings em que estas têm um comprimento igual ou superior ao valor inteiro passado como argumento."
   ]
  },
  {
   "cell_type": "code",
   "execution_count": null,
   "id": "1944ef1d",
   "metadata": {},
   "outputs": [],
   "source": [
    "# Solução do exercício 12\n",
    "def stringsMaioresLista(lista, n):\n",
    "    \n",
    "    return"
   ]
  },
  {
   "cell_type": "markdown",
   "id": "af46fe06",
   "metadata": {},
   "source": [
    "### Exercício 13: Comum?\n",
    "- Defina uma função que recebe duas listas como argumento, e que devolve o valor booleano verdadeiro se as listas tiverem pelo menos um elemento comum."
   ]
  },
  {
   "cell_type": "code",
   "execution_count": null,
   "id": "7a2f4413",
   "metadata": {},
   "outputs": [],
   "source": [
    "# Solução do exercício 13\n",
    "def haComuns(listaA, listaB):\n",
    "    \n",
    "    return"
   ]
  },
  {
   "cell_type": "markdown",
   "id": "061bae0e",
   "metadata": {},
   "source": [
    "### Exercício 14: Comuns\n",
    "- Defina uma função que recebe duas listas como argumento, e que devolve uma nova lista com os valores comuns às duas listas."
   ]
  },
  {
   "cell_type": "code",
   "execution_count": null,
   "id": "02db9458",
   "metadata": {},
   "outputs": [],
   "source": [
    "# Solução do exercício 14\n",
    "def comuns(listaA, listaB):\n",
    "    \n",
    "    return"
   ]
  },
  {
   "cell_type": "markdown",
   "id": "af4f2b11",
   "metadata": {},
   "source": [
    "### Exercício 15: Únicos\n",
    "- Defina uma função que recebe duas listas como argumento, e que devolve uma nova lista com os valores que apenas existem numa delas."
   ]
  },
  {
   "cell_type": "code",
   "execution_count": null,
   "id": "01a0d35e",
   "metadata": {},
   "outputs": [],
   "source": [
    "# Solução do exercício 15\n",
    "def unicos(listaA, listaB):\n",
    "    \n",
    "    return"
   ]
  },
  {
   "cell_type": "markdown",
   "id": "2acbab46",
   "metadata": {},
   "source": [
    "### Exercício 16: indiceDe\n",
    "- Defina uma função que recebe uma lista e um elemento como argumento, e que devolve o índice desse elemento na lista. No caso do elemento não existir na lista deverá devolver o valor -1."
   ]
  },
  {
   "cell_type": "code",
   "execution_count": null,
   "id": "3891e6c3",
   "metadata": {},
   "outputs": [],
   "source": [
    "# Solução do exercício 16\n",
    "def unicos(lista, elem):\n",
    "    \n",
    "    return"
   ]
  },
  {
   "cell_type": "markdown",
   "id": "1d9c2fbc",
   "metadata": {},
   "source": [
    "### Exercício 17: estaOrdenada\n",
    "- Defina uma função que recebe uma lista de números e verifica se a mesma está ordenada por ordem crescente."
   ]
  },
  {
   "cell_type": "code",
   "execution_count": null,
   "id": "fb44546a",
   "metadata": {},
   "outputs": [],
   "source": [
    "# Solução do exercício 17\n",
    "def estaOrdenada(lista):\n",
    "    \n",
    "    return"
   ]
  },
  {
   "cell_type": "markdown",
   "id": "4c48dc90",
   "metadata": {},
   "source": [
    "### Exercício 18: estaOrdenadaCD\n",
    "- Modifique a função do exercício anterior para receber um parâmetro extra, **ordem**, que poderá ter valores \"C\" ou \"D\" e que vai verificar se a lista está ordenada por ordem crescente se **ordem=\"C\"** ou se está ordenada por ordem decrescente se **ordem=\"D\"**."
   ]
  },
  {
   "cell_type": "code",
   "execution_count": null,
   "id": "f4b83960",
   "metadata": {},
   "outputs": [],
   "source": [
    "# Solução do exercício 18\n",
    "def estaOrdenadaCD(lista, ordem):\n",
    "    \n",
    "    return"
   ]
  },
  {
   "cell_type": "markdown",
   "id": "4193a91b",
   "metadata": {},
   "source": [
    "### TPC4: Aplicação para manipulação de listas de inteiros\n",
    "- Crie uma aplicação em Python que coloca no monitor o seguinte menu:\n",
    "    * (1) Criar Lista \n",
    "    * (2) Ler Lista\n",
    "    * (3) Soma\n",
    "    * (4) Média\n",
    "    * (5) Maior\n",
    "    * (6) Menor\n",
    "    * (7) estaOrdenada por ordem crescente\n",
    "    * (8) estaOrdenada por ordem decrescente\n",
    "    * (9) Procura um elemento\n",
    "    * (0) Sair\n",
    "- O utilizador irá escolher uma das opções introduzindo o número correspondente;\n",
    "- Se a opção não for sair, a aplicação executa a operação pretendida, apresenta o resultado e a seguir apresenta de novo o menu;\n",
    "- Se a opção for sair, a aplicação termina colocando uma mensagem no monitor.\n",
    "\n",
    "* No desenvolvimento da aplicação deverá ter em atenção o seguinte:\n",
    "    - A aplicação terá uma variável interna para guardar uma lista de números;\n",
    "    - Na opção 1, deverá ser criada uma lista de números aleatórios entre 1 e 100 que será guardada na variável interna;\n",
    "    - Na opção 2, deverá ser criada uma lista com números introduzidos pelo utilizador, que será guardada na variável interna;\n",
    "    - Nestas primeiras opções, se a variável interna já tiver uma lista, esta será sobreposta/apagada pela nova lista;\n",
    "    - Na opção 3, será calculada a soma dos elementos na lista no momento;\n",
    "    - Na opção 4, será calculada a média dos elementos na lista no momento;\n",
    "    - Na opção 5, será calculado o maior elemento da lista no momento;\n",
    "    - Na opção 6, será calculado o menor elemento da lista no momento;\n",
    "    - Na opção 7, a aplicação deverá indicar (Sim/Não) se a lista está ordenada por ordem crescente;\n",
    "    - Na opção 8, a aplicação deverá indicar (Sim/Não) se a lista está ordenada por ordem decrescente;\n",
    "    - Na opção 9, a aplicação irá procurar um elemento na lista, se o encontrar deverá devolver a sua posição, devolverá -1 se o elemento não estiver na lista;\n",
    "    - Se o utilizador selecionar a opção 0, a aplicação deverá terminar mostrando a lista que está nesse momento guardada."
   ]
  },
  {
   "cell_type": "code",
   "execution_count": 3,
   "id": "a78b7d4c",
   "metadata": {},
   "outputs": [
    {
     "name": "stdout",
     "output_type": "stream",
     "text": [
      "\n",
      "Menu:\n",
      "(1) Criar Lista Aleatória\n",
      "(2) Ler Lista\n",
      "(3) Soma\n",
      "(4) Média\n",
      "(5) Maior\n",
      "(6) Menor\n",
      "(7) Esta Ordenada por Ordem Crescente\n",
      "(8) Esta Ordenada por Ordem Decrescente\n",
      "(9) Procurar um Elemento\n",
      "(0) Sair\n",
      "\n",
      "Menu:\n",
      "(1) Criar Lista Aleatória\n",
      "(2) Ler Lista\n",
      "(3) Soma\n",
      "(4) Média\n",
      "(5) Maior\n",
      "(6) Menor\n",
      "(7) Esta Ordenada por Ordem Crescente\n",
      "(8) Esta Ordenada por Ordem Decrescente\n",
      "(9) Procurar um Elemento\n",
      "(0) Sair\n",
      "[1, 2, 3]\n",
      "[1, 3, 5]\n"
     ]
    },
    {
     "ename": "ValueError",
     "evalue": "invalid literal for int() with base 10: ''",
     "output_type": "error",
     "traceback": [
      "\u001b[1;31m---------------------------------------------------------------------------\u001b[0m",
      "\u001b[1;31mValueError\u001b[0m                                Traceback (most recent call last)",
      "\u001b[1;32mc:\\Users\\gfbar\\AppData\\Local\\Temp\\Temp45f07e4f-e237-4955-ba2c-ba1f91b0924a_AulaP4-20231002.ipynb.zip\\AulaP4-20231002.ipynb Cell 45\u001b[0m line \u001b[0;36m3\n\u001b[0;32m     <a href='vscode-notebook-cell:/c%3A/Users/gfbar/AppData/Local/Temp/Temp45f07e4f-e237-4955-ba2c-ba1f91b0924a_AulaP4-20231002.ipynb.zip/AulaP4-20231002.ipynb#X62sZmlsZQ%3D%3D?line=33'>34</a>\u001b[0m     \u001b[39mprint\u001b[39m(lista)\n\u001b[0;32m     <a href='vscode-notebook-cell:/c%3A/Users/gfbar/AppData/Local/Temp/Temp45f07e4f-e237-4955-ba2c-ba1f91b0924a_AulaP4-20231002.ipynb.zip/AulaP4-20231002.ipynb#X62sZmlsZQ%3D%3D?line=35'>36</a>\u001b[0m \u001b[39melif\u001b[39;00m opcao\u001b[39m==\u001b[39m\u001b[39m2\u001b[39m:\n\u001b[1;32m---> <a href='vscode-notebook-cell:/c%3A/Users/gfbar/AppData/Local/Temp/Temp45f07e4f-e237-4955-ba2c-ba1f91b0924a_AulaP4-20231002.ipynb.zip/AulaP4-20231002.ipynb#X62sZmlsZQ%3D%3D?line=36'>37</a>\u001b[0m     tamanholista\u001b[39m=\u001b[39m\u001b[39mint\u001b[39;49m(\u001b[39minput\u001b[39;49m(\u001b[39m\"\u001b[39;49m\u001b[39mdiz o nr de nrs\u001b[39;49m\u001b[39m\"\u001b[39;49m))\n\u001b[0;32m     <a href='vscode-notebook-cell:/c%3A/Users/gfbar/AppData/Local/Temp/Temp45f07e4f-e237-4955-ba2c-ba1f91b0924a_AulaP4-20231002.ipynb.zip/AulaP4-20231002.ipynb#X62sZmlsZQ%3D%3D?line=37'>38</a>\u001b[0m     \u001b[39mdef\u001b[39;00m \u001b[39mleLista\u001b[39m(oi):\n\u001b[0;32m     <a href='vscode-notebook-cell:/c%3A/Users/gfbar/AppData/Local/Temp/Temp45f07e4f-e237-4955-ba2c-ba1f91b0924a_AulaP4-20231002.ipynb.zip/AulaP4-20231002.ipynb#X62sZmlsZQ%3D%3D?line=38'>39</a>\u001b[0m         lista\u001b[39m=\u001b[39m[]\n",
      "\u001b[1;31mValueError\u001b[0m: invalid literal for int() with base 10: ''"
     ]
    }
   ],
   "source": [
    "print(\"\\nMenu:\")\n",
    "print(\"(1) Criar Lista Aleatória\")\n",
    "print(\"(2) Ler Lista\")\n",
    "print(\"(3) Soma\")\n",
    "print(\"(4) Média\")\n",
    "print(\"(5) Maior\")\n",
    "print(\"(6) Menor\")\n",
    "print(\"(7) Esta Ordenada por Ordem Crescente\")\n",
    "print(\"(8) Esta Ordenada por Ordem Decrescente\")\n",
    "print(\"(9) Procurar um Elemento\")\n",
    "print(\"(0) Sair\")\n",
    "opcao=int(input(\"Selecione uma opção\"))\n",
    "\n",
    "while opcao!=0:\n",
    "        print(\"\\nMenu:\")\n",
    "        print(\"(1) Criar Lista Aleatória\")\n",
    "        print(\"(2) Ler Lista\")\n",
    "        print(\"(3) Soma\")\n",
    "        print(\"(4) Média\")\n",
    "        print(\"(5) Maior\")\n",
    "        print(\"(6) Menor\")\n",
    "        print(\"(7) Esta Ordenada por Ordem Crescente\")\n",
    "        print(\"(8) Esta Ordenada por Ordem Decrescente\")\n",
    "        print(\"(9) Procurar um Elemento\")\n",
    "        print(\"(0) Sair\")\n",
    "        opcao=int(input(\"Selecione uma opção\"))\n",
    "\n",
    "        import random\n",
    "\n",
    "        while opcao!=0:\n",
    "            if opcao==1:\n",
    "                tamanholista=random.randint(0,100)\n",
    "                lista=[random.randint(0, 100) for _ in range(tamanholista)]\n",
    "                print(lista)\n",
    "            \n",
    "            elif opcao==2:\n",
    "                tamanholista=int(input(\"diz o nr de nrs\"))\n",
    "                def leLista(oi):\n",
    "                    lista=[]\n",
    "                    while oi>0:\n",
    "                        x=int(input(\"Diz o numero\"))\n",
    "                        oi=oi-1\n",
    "                        lista.append(x)\n",
    "                    return lista\n",
    "                print(leLista(tamanholista))\n",
    "            \n",
    "            elif opcao==3:\n",
    "                soma = sum(lista)\n",
    "                print(\"A soma dos elementos da lista é:\", soma)\n",
    "\n",
    "            elif opcao==4:\n",
    "                soma = sum(lista)\n",
    "                media = soma / len(lista)\n",
    "                print(\"A média dos elementos da lista é:\", media)\n",
    "\n",
    "            elif opcao==5:\n",
    "                maior = max(lista)\n",
    "                print(\"O maior elemento da lista é:\", maior)\n",
    "\n",
    "            elif opcao==6:\n",
    "                menor = min(lista)\n",
    "                print(\"O menor elemento da lista é:\", menor)\n",
    "\n",
    "            elif opcao==7:\n",
    "                def crescente(lista):\n",
    "                    for i in range(len(lista) - 1):\n",
    "                        if lista[i] > lista[i + 1]:\n",
    "                            print(\"Sim, a lista está ordenada de forma crescente.\")\n",
    "                        else:\n",
    "                            print(\"Não, a lista ão está ordenada de forma crescente.\")\n",
    "\n",
    "            elif opcao==8:\n",
    "                def crescente(lista):\n",
    "                    for i in range(len(lista) - 1):\n",
    "                        if lista[i] < lista[i + 1]:\n",
    "                            print(\"Sim, a lista está ordenada de forma decrescente.\")\n",
    "                        else:\n",
    "                            print(\"Não, a lista ão está ordenada de forma decrescente.\")\n",
    "\n",
    "            elif opcao==9:\n",
    "                elemento_procurado = int(input(\"Diga o número procurado\"))\n",
    "                try:\n",
    "                    indice = lista.index(elemento_procurado)\n",
    "                    print(f\"O elemento {elemento_procurado} está na posição {indice} da lista.\")\n",
    "                except ValueError:\n",
    "                    print(f\"O elemento {elemento_procurado} não está na lista.\")\n"
   ]
  }
 ],
 "metadata": {
  "kernelspec": {
   "display_name": "Python 3.9.1 64-bit",
   "language": "python",
   "name": "python3"
  },
  "language_info": {
   "codemirror_mode": {
    "name": "ipython",
    "version": 3
   },
   "file_extension": ".py",
   "mimetype": "text/x-python",
   "name": "python",
   "nbconvert_exporter": "python",
   "pygments_lexer": "ipython3",
   "version": "3.11.5"
  },
  "vscode": {
   "interpreter": {
    "hash": "aee8b7b246df8f9039afb4144a1f6fd8d2ca17a180786b69acc140d282b71a49"
   }
  }
 },
 "nbformat": 4,
 "nbformat_minor": 5
}
